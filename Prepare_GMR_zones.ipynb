{
 "cells": [
  {
   "cell_type": "markdown",
   "metadata": {},
   "source": [
    "# Mapping geographical zones between model and GCMR\n",
    "\n",
    "This notebook finds fuzzy matches for countries and regions between\n",
    "file `model_zones_file` and the \"Google Community Mobility Reports\" (GCMR) data."
   ]
  },
  {
   "cell_type": "code",
   "execution_count": 1,
   "metadata": {},
   "outputs": [],
   "source": [
    "import pandas as pd\n",
    "import urllib.request\n",
    "import os\n",
    "import numpy as np\n",
    "import pylcs"
   ]
  },
  {
   "cell_type": "markdown",
   "metadata": {},
   "source": [
    "## Loading GCMR data"
   ]
  },
  {
   "cell_type": "code",
   "execution_count": 2,
   "metadata": {},
   "outputs": [],
   "source": [
    "GCMR_file_path = \"./Global_Mobility_Report.csv\""
   ]
  },
  {
   "cell_type": "markdown",
   "metadata": {},
   "source": [
    "Removes previous file"
   ]
  },
  {
   "cell_type": "code",
   "execution_count": 3,
   "metadata": {},
   "outputs": [],
   "source": [
    "if os.path.isfile(GCMR_file_path):\n",
    "    os.remove(GCMR_file_path)\n",
    "else:\n",
    "    print (\"File not exists\")"
   ]
  },
  {
   "cell_type": "markdown",
   "metadata": {},
   "source": [
    "Downloads the latest GCMR data"
   ]
  },
  {
   "cell_type": "code",
   "execution_count": 4,
   "metadata": {},
   "outputs": [
    {
     "output_type": "stream",
     "name": "stdout",
     "text": "Start the download\nThe file have been correctly downloaded\n"
    }
   ],
   "source": [
    "print('Start the download')\n",
    "\n",
    "try :\n",
    "    url = 'https://www.gstatic.com/covid19/mobility/Global_Mobility_Report.csv?cachebust=e0c5a582159f5662'\n",
    "    urllib.request.urlretrieve(url, GCMR_file_path)\n",
    "    print('The file have been correctly downloaded')\n",
    "except Exception as e:\n",
    "    print(\"The file have NOT been correctly downloaded\")\n",
    "    print(e)"
   ]
  },
  {
   "cell_type": "code",
   "execution_count": 5,
   "metadata": {},
   "outputs": [],
   "source": [
    "gcmr_df = pd.read_csv(\"./Global_Mobility_Report.csv\")"
   ]
  },
  {
   "cell_type": "markdown",
   "metadata": {},
   "source": [
    "## Loading covid 19 model countries\n",
    "\n",
    "The user will have prepared a csv file with two columns `covid19model_country` and `covid19model_region`. Optionnaly `GCMR_country` and `GCMR_region` can be defined and left empty, or partially filled, the rest of the program uses fuzzy search to find them"
   ]
  },
  {
   "cell_type": "code",
   "execution_count": 6,
   "metadata": {},
   "outputs": [],
   "source": [
    "model_zones_file = 'covid19model_zones.csv'\n",
    "model_zones_df = pd.read_csv(model_zones_file)"
   ]
  },
  {
   "cell_type": "code",
   "execution_count": 7,
   "metadata": {},
   "outputs": [
    {
     "output_type": "execute_result",
     "data": {
      "text/plain": "       country_region_code  country_region sub_region_1         sub_region_2  \\\n159106                  US   United States    Louisiana  Natchitoches Parish   \n143652                  US   United States         Iowa          Page County   \n170608                  US   United States     Michigan     Van Buren County   \n198686                  US   United States   New Mexico      McKinley County   \n167707                  US   United States     Michigan          Iron County   \n113542                  US   United States      Georgia         Bryan County   \n156337                  US   United States     Kentucky        Warren County   \n32301                   GB  United Kingdom   Midlothian                  NaN   \n107316                  US   United States     Delaware                  NaN   \n258237                  US   United States         Utah         Davis County   \n\n              date  retail_and_recreation_percent_change_from_baseline  \\\n159106  2020-03-15                                                8.0    \n143652  2020-04-21                                                NaN    \n170608  2020-03-29                                              -43.0    \n198686  2020-03-31                                              -33.0    \n167707  2020-02-23                                               23.0    \n113542  2020-04-22                                              -30.0    \n156337  2020-04-11                                              -45.0    \n32301   2020-04-09                                              -77.0    \n107316  2020-03-11                                                7.0    \n258237  2020-04-10                                              -38.0    \n\n        grocery_and_pharmacy_percent_change_from_baseline  \\\n159106                                               26.0   \n143652                                                NaN   \n170608                                              -24.0   \n198686                                                8.0   \n167707                                                NaN   \n113542                                              -11.0   \n156337                                              -13.0   \n32301                                               -24.0   \n107316                                                7.0   \n258237                                                7.0   \n\n        parks_percent_change_from_baseline  \\\n159106                                 NaN   \n143652                                 NaN   \n170608                                 NaN   \n198686                                 NaN   \n167707                                 NaN   \n113542                                 NaN   \n156337                               -43.0   \n32301                                  NaN   \n107316                                24.0   \n258237                                53.0   \n\n        transit_stations_percent_change_from_baseline  \\\n159106                                            NaN   \n143652                                            NaN   \n170608                                            NaN   \n198686                                          -11.0   \n167707                                            NaN   \n113542                                           -8.0   \n156337                                            NaN   \n32301                                           -54.0   \n107316                                            1.0   \n258237                                          -30.0   \n\n        workplaces_percent_change_from_baseline  \\\n159106                                      0.0   \n143652                                    -26.0   \n170608                                    -30.0   \n198686                                    -47.0   \n167707                                      NaN   \n113542                                    -44.0   \n156337                                    -37.0   \n32301                                     -72.0   \n107316                                      1.0   \n258237                                    -54.0   \n\n        residential_percent_change_from_baseline  \n159106                                       NaN  \n143652                                       NaN  \n170608                                       NaN  \n198686                                      19.0  \n167707                                       NaN  \n113542                                      18.0  \n156337                                      12.0  \n32301                                        NaN  \n107316                                       0.0  \n258237                                      21.0  ",
      "text/html": "<div>\n<style scoped>\n    .dataframe tbody tr th:only-of-type {\n        vertical-align: middle;\n    }\n\n    .dataframe tbody tr th {\n        vertical-align: top;\n    }\n\n    .dataframe thead th {\n        text-align: right;\n    }\n</style>\n<table border=\"1\" class=\"dataframe\">\n  <thead>\n    <tr style=\"text-align: right;\">\n      <th></th>\n      <th>country_region_code</th>\n      <th>country_region</th>\n      <th>sub_region_1</th>\n      <th>sub_region_2</th>\n      <th>date</th>\n      <th>retail_and_recreation_percent_change_from_baseline</th>\n      <th>grocery_and_pharmacy_percent_change_from_baseline</th>\n      <th>parks_percent_change_from_baseline</th>\n      <th>transit_stations_percent_change_from_baseline</th>\n      <th>workplaces_percent_change_from_baseline</th>\n      <th>residential_percent_change_from_baseline</th>\n    </tr>\n  </thead>\n  <tbody>\n    <tr>\n      <td>159106</td>\n      <td>US</td>\n      <td>United States</td>\n      <td>Louisiana</td>\n      <td>Natchitoches Parish</td>\n      <td>2020-03-15</td>\n      <td>8.0</td>\n      <td>26.0</td>\n      <td>NaN</td>\n      <td>NaN</td>\n      <td>0.0</td>\n      <td>NaN</td>\n    </tr>\n    <tr>\n      <td>143652</td>\n      <td>US</td>\n      <td>United States</td>\n      <td>Iowa</td>\n      <td>Page County</td>\n      <td>2020-04-21</td>\n      <td>NaN</td>\n      <td>NaN</td>\n      <td>NaN</td>\n      <td>NaN</td>\n      <td>-26.0</td>\n      <td>NaN</td>\n    </tr>\n    <tr>\n      <td>170608</td>\n      <td>US</td>\n      <td>United States</td>\n      <td>Michigan</td>\n      <td>Van Buren County</td>\n      <td>2020-03-29</td>\n      <td>-43.0</td>\n      <td>-24.0</td>\n      <td>NaN</td>\n      <td>NaN</td>\n      <td>-30.0</td>\n      <td>NaN</td>\n    </tr>\n    <tr>\n      <td>198686</td>\n      <td>US</td>\n      <td>United States</td>\n      <td>New Mexico</td>\n      <td>McKinley County</td>\n      <td>2020-03-31</td>\n      <td>-33.0</td>\n      <td>8.0</td>\n      <td>NaN</td>\n      <td>-11.0</td>\n      <td>-47.0</td>\n      <td>19.0</td>\n    </tr>\n    <tr>\n      <td>167707</td>\n      <td>US</td>\n      <td>United States</td>\n      <td>Michigan</td>\n      <td>Iron County</td>\n      <td>2020-02-23</td>\n      <td>23.0</td>\n      <td>NaN</td>\n      <td>NaN</td>\n      <td>NaN</td>\n      <td>NaN</td>\n      <td>NaN</td>\n    </tr>\n    <tr>\n      <td>113542</td>\n      <td>US</td>\n      <td>United States</td>\n      <td>Georgia</td>\n      <td>Bryan County</td>\n      <td>2020-04-22</td>\n      <td>-30.0</td>\n      <td>-11.0</td>\n      <td>NaN</td>\n      <td>-8.0</td>\n      <td>-44.0</td>\n      <td>18.0</td>\n    </tr>\n    <tr>\n      <td>156337</td>\n      <td>US</td>\n      <td>United States</td>\n      <td>Kentucky</td>\n      <td>Warren County</td>\n      <td>2020-04-11</td>\n      <td>-45.0</td>\n      <td>-13.0</td>\n      <td>-43.0</td>\n      <td>NaN</td>\n      <td>-37.0</td>\n      <td>12.0</td>\n    </tr>\n    <tr>\n      <td>32301</td>\n      <td>GB</td>\n      <td>United Kingdom</td>\n      <td>Midlothian</td>\n      <td>NaN</td>\n      <td>2020-04-09</td>\n      <td>-77.0</td>\n      <td>-24.0</td>\n      <td>NaN</td>\n      <td>-54.0</td>\n      <td>-72.0</td>\n      <td>NaN</td>\n    </tr>\n    <tr>\n      <td>107316</td>\n      <td>US</td>\n      <td>United States</td>\n      <td>Delaware</td>\n      <td>NaN</td>\n      <td>2020-03-11</td>\n      <td>7.0</td>\n      <td>7.0</td>\n      <td>24.0</td>\n      <td>1.0</td>\n      <td>1.0</td>\n      <td>0.0</td>\n    </tr>\n    <tr>\n      <td>258237</td>\n      <td>US</td>\n      <td>United States</td>\n      <td>Utah</td>\n      <td>Davis County</td>\n      <td>2020-04-10</td>\n      <td>-38.0</td>\n      <td>7.0</td>\n      <td>53.0</td>\n      <td>-30.0</td>\n      <td>-54.0</td>\n      <td>21.0</td>\n    </tr>\n  </tbody>\n</table>\n</div>"
     },
     "metadata": {},
     "execution_count": 7
    }
   ],
   "source": [
    "gcmr_df.sample(10)"
   ]
  },
  {
   "cell_type": "code",
   "execution_count": 8,
   "metadata": {},
   "outputs": [
    {
     "output_type": "execute_result",
     "data": {
      "text/plain": "   covid19model_country         covid19model_region GCMR_country GCMR_region\n26          Switzerland                 Switzerland                         \n11               France  Provence-Alpes-Côte d'Azur                         \n2                France                    Bretagne                         \n18              Germany                     Germany                         ",
      "text/html": "<div>\n<style scoped>\n    .dataframe tbody tr th:only-of-type {\n        vertical-align: middle;\n    }\n\n    .dataframe tbody tr th {\n        vertical-align: top;\n    }\n\n    .dataframe thead th {\n        text-align: right;\n    }\n</style>\n<table border=\"1\" class=\"dataframe\">\n  <thead>\n    <tr style=\"text-align: right;\">\n      <th></th>\n      <th>covid19model_country</th>\n      <th>covid19model_region</th>\n      <th>GCMR_country</th>\n      <th>GCMR_region</th>\n    </tr>\n  </thead>\n  <tbody>\n    <tr>\n      <td>26</td>\n      <td>Switzerland</td>\n      <td>Switzerland</td>\n      <td></td>\n      <td></td>\n    </tr>\n    <tr>\n      <td>11</td>\n      <td>France</td>\n      <td>Provence-Alpes-Côte d'Azur</td>\n      <td></td>\n      <td></td>\n    </tr>\n    <tr>\n      <td>2</td>\n      <td>France</td>\n      <td>Bretagne</td>\n      <td></td>\n      <td></td>\n    </tr>\n    <tr>\n      <td>18</td>\n      <td>Germany</td>\n      <td>Germany</td>\n      <td></td>\n      <td></td>\n    </tr>\n  </tbody>\n</table>\n</div>"
     },
     "metadata": {},
     "execution_count": 8
    }
   ],
   "source": [
    "df_obj = model_zones_df.select_dtypes(['object'])\n",
    "model_zones_df[df_obj.columns] = df_obj.apply(lambda x: x.str.strip().str.strip('\"'))\n",
    "model_zones_df.sample(4)"
   ]
  },
  {
   "cell_type": "code",
   "execution_count": 9,
   "metadata": {},
   "outputs": [
    {
     "output_type": "execute_result",
     "data": {
      "text/plain": "   covid19model_country  covid19model_region GCMR_country GCMR_region\n21               France               France         None        None\n8                France   Nouvelle-Aquitaine         None        None\n3                France  Centre-Val de Loire         None        None\n19                Spain                Spain         None        None",
      "text/html": "<div>\n<style scoped>\n    .dataframe tbody tr th:only-of-type {\n        vertical-align: middle;\n    }\n\n    .dataframe tbody tr th {\n        vertical-align: top;\n    }\n\n    .dataframe thead th {\n        text-align: right;\n    }\n</style>\n<table border=\"1\" class=\"dataframe\">\n  <thead>\n    <tr style=\"text-align: right;\">\n      <th></th>\n      <th>covid19model_country</th>\n      <th>covid19model_region</th>\n      <th>GCMR_country</th>\n      <th>GCMR_region</th>\n    </tr>\n  </thead>\n  <tbody>\n    <tr>\n      <td>21</td>\n      <td>France</td>\n      <td>France</td>\n      <td>None</td>\n      <td>None</td>\n    </tr>\n    <tr>\n      <td>8</td>\n      <td>France</td>\n      <td>Nouvelle-Aquitaine</td>\n      <td>None</td>\n      <td>None</td>\n    </tr>\n    <tr>\n      <td>3</td>\n      <td>France</td>\n      <td>Centre-Val de Loire</td>\n      <td>None</td>\n      <td>None</td>\n    </tr>\n    <tr>\n      <td>19</td>\n      <td>Spain</td>\n      <td>Spain</td>\n      <td>None</td>\n      <td>None</td>\n    </tr>\n  </tbody>\n</table>\n</div>"
     },
     "metadata": {},
     "execution_count": 9
    }
   ],
   "source": [
    "for GCMR_field in [\"GCMR_country\",\t\"GCMR_region\"]:\n",
    "    try:\n",
    "        model_zones_df[GCMR_field]\n",
    "    except KeyError as e:\n",
    "        model_zones_df[GCMR_field] = np.nan\n",
    "    field_na_indices = (\n",
    "        (model_zones_df[GCMR_field] == ' ') \n",
    "        | (model_zones_df[GCMR_field] == '') \n",
    "        | (model_zones_df[GCMR_field].isna())\n",
    "    )\n",
    "    model_zones_df.loc[field_na_indices, GCMR_field] = None\n",
    "\n",
    "model_zones_df.sample(4)"
   ]
  },
  {
   "cell_type": "markdown",
   "metadata": {},
   "source": [
    "## Matching model geographical zones to a zone of the GCMR"
   ]
  },
  {
   "cell_type": "code",
   "execution_count": 10,
   "metadata": {},
   "outputs": [
    {
     "output_type": "stream",
     "name": "stdout",
     "text": "132 countries in the GCMR report\n"
    }
   ],
   "source": [
    "gcmr_countries = gcmr_df[\"country_region\"].unique()\n",
    "print(f\"{len(gcmr_countries)} countries in the GCMR report\")"
   ]
  },
  {
   "cell_type": "markdown",
   "metadata": {},
   "source": [
    "Use fuzzy logic to match strings with a metric including:\n",
    "\n",
    "- Longest common subsequence (added)\n",
    "- Longest common substring (added)\n",
    "- Non-matched characters (substracted)\n",
    "- Divided by the length of the original string."
   ]
  },
  {
   "cell_type": "code",
   "execution_count": 11,
   "metadata": {},
   "outputs": [],
   "source": [
    "def  most_probable_match(string, possible_strings, n_matches=1):\n",
    "    \"\"\" Fuzzy lookup for a similar string\n",
    "    \"\"\"\n",
    "\n",
    "    def return_match(arg_most_prob, probable_match, i_match=1):\n",
    "        print(\n",
    "            f\"\\tMatch {i_match} of {n_matches} : \"\n",
    "            + f\"'{possible_strings[arg_most_prob]}' == '{string}'  \"\n",
    "            + f\"with a match score of {probable_match[arg_most_prob]}/{2*len(string)}.\"\n",
    "        )\n",
    "        return possible_strings[arg_most_prob]\n",
    "\n",
    "    lcsubsequence_list = pylcs.lcs_of_list(string, possible_strings)\n",
    "    probable_match = (np.add(\n",
    "        lcsubsequence_list,  # longest subsequence \n",
    "        pylcs.lcs2_of_list(string, possible_strings) # longest substring\n",
    "    ).astype(np.int) - (\n",
    "        np.array([len(t) - m for t, m in zip(possible_strings, lcsubsequence_list)])  # Penalise extra characters in the match\n",
    "    ))\n",
    "    if n_matches == 1:\n",
    "        arg_most_prob = np.argmax(probable_match)\n",
    "        return return_match(arg_most_prob, probable_match)\n",
    "    elif n_matches > 1:\n",
    "        args_most_prob = np.argpartition(probable_match, -n_matches)[-1:-n_matches-1:-1]\n",
    "        return [return_match(a, probable_match, i+1) for i, a in enumerate(args_most_prob)]\n",
    "    else: \n",
    "        raise AttributeError(\"Invalid number of matches requested\")"
   ]
  },
  {
   "cell_type": "markdown",
   "metadata": {},
   "source": [
    "elow are some examples of the scores, differences in length are heavily penalised."
   ]
  },
  {
   "cell_type": "code",
   "execution_count": 12,
   "metadata": {},
   "outputs": [
    {
     "output_type": "stream",
     "name": "stdout",
     "text": "Testing single returns:\n\tMatch 1 of 1 : 'Paris' == 'Normandie'  with a match score of 0/18.\n\tMatch 1 of 1 : 'France' == 'Normandie'  with a match score of 4/18.\n\tMatch 1 of 1 : 'Normandie Bretagne' == 'Normandie'  with a match score of 9/18.\n\tMatch 1 of 1 : 'Normandy' == 'Normandie'  with a match score of 13/18.\nTesting multiple value return:\n\tMatch 1 of 3 : 'Normandie' == 'Normandie'  with a match score of 18/18.\n\tMatch 2 of 3 : 'Normandy' == 'Normandie'  with a match score of 13/18.\n\tMatch 3 of 3 : 'Normandie Bretagne' == 'Normandie'  with a match score of 9/18.\n"
    },
    {
     "output_type": "execute_result",
     "data": {
      "text/plain": "['Normandie', 'Normandy', 'Normandie Bretagne']"
     },
     "metadata": {},
     "execution_count": 12
    }
   ],
   "source": [
    "print(\"Testing single returns:\")\n",
    "most_probable_match(\"Normandie\", [\"Paris\"])\n",
    "most_probable_match(\"Normandie\", [\"France\", \"Paris\"])\n",
    "most_probable_match(\"Normandie\", [\"France\", \"Paris\", \"Normandie Bretagne\"])\n",
    "most_probable_match(\"Normandie\", [\"Normandy\", \"France\", \"Paris\", \"Normandie Bretagne\"])\n",
    "\n",
    "print(\"Testing multiple value return:\")\n",
    "most_probable_match(\"Normandie\", \n",
    "                    [\"Normandy\", \"France\", \"Paris\", \n",
    "                     \"Normandie Bretagne\", \"Normandie\"\n",
    "                    ],\n",
    "                    n_matches=3\n",
    ")\n"
   ]
  },
  {
   "cell_type": "markdown",
   "metadata": {},
   "source": [
    "### Matching countries"
   ]
  },
  {
   "cell_type": "code",
   "execution_count": 13,
   "metadata": {},
   "outputs": [
    {
     "output_type": "stream",
     "name": "stdout",
     "text": "WARNING: an exact match for country 'United_Kingdom' could not be found in the GCMR database\n\tMatch 1 of 1 : 'United Kingdom' == 'United_Kingdom'  with a match score of 19/28.\n"
    }
   ],
   "source": [
    "model_to_GCMR_countries = { \n",
    "    c: c for c in model_zones_df[\"covid19model_country\"].unique()\n",
    "} \n",
    "\n",
    "for country in model_to_GCMR_countries:\n",
    "    if country not in gcmr_countries:\n",
    "        print(f\"WARNING: an exact match for country '{country}' \"\n",
    "              + \"could not be found in the GCMR database\")\n",
    "        model_to_GCMR_countries[country] = most_probable_match(country, gcmr_countries)\n",
    "\n",
    "# Fill in the \"GCMR_country\" column\n",
    "for index, row in model_zones_df.iterrows():\n",
    "    if row[\"GCMR_country\"] is None or row[\"GCMR_country\"] not in gcmr_countries:\n",
    "        model_zones_df.loc[index ,\"GCMR_country\"] = model_to_GCMR_countries[row[\"covid19model_country\"]]"
   ]
  },
  {
   "cell_type": "markdown",
   "metadata": {},
   "source": [
    "Check that the dataframe is populated"
   ]
  },
  {
   "cell_type": "code",
   "execution_count": 14,
   "metadata": {},
   "outputs": [
    {
     "output_type": "stream",
     "name": "stdout",
     "text": "Sample below should show 'GCMR_country' column populated\n"
    },
    {
     "output_type": "execute_result",
     "data": {
      "text/plain": "   covid19model_country covid19model_region GCMR_country GCMR_region\n9                France           Occitanie       France        None\n29          Netherlands         Netherlands  Netherlands        None\n12               France       Île-de-France       France        None\n18              Germany             Germany      Germany        None",
      "text/html": "<div>\n<style scoped>\n    .dataframe tbody tr th:only-of-type {\n        vertical-align: middle;\n    }\n\n    .dataframe tbody tr th {\n        vertical-align: top;\n    }\n\n    .dataframe thead th {\n        text-align: right;\n    }\n</style>\n<table border=\"1\" class=\"dataframe\">\n  <thead>\n    <tr style=\"text-align: right;\">\n      <th></th>\n      <th>covid19model_country</th>\n      <th>covid19model_region</th>\n      <th>GCMR_country</th>\n      <th>GCMR_region</th>\n    </tr>\n  </thead>\n  <tbody>\n    <tr>\n      <td>9</td>\n      <td>France</td>\n      <td>Occitanie</td>\n      <td>France</td>\n      <td>None</td>\n    </tr>\n    <tr>\n      <td>29</td>\n      <td>Netherlands</td>\n      <td>Netherlands</td>\n      <td>Netherlands</td>\n      <td>None</td>\n    </tr>\n    <tr>\n      <td>12</td>\n      <td>France</td>\n      <td>Île-de-France</td>\n      <td>France</td>\n      <td>None</td>\n    </tr>\n    <tr>\n      <td>18</td>\n      <td>Germany</td>\n      <td>Germany</td>\n      <td>Germany</td>\n      <td>None</td>\n    </tr>\n  </tbody>\n</table>\n</div>"
     },
     "metadata": {},
     "execution_count": 14
    }
   ],
   "source": [
    "print(\"Sample below should show 'GCMR_country' column populated\")\n",
    "# Country column is prepared\n",
    "model_zones_df.sample(4)"
   ]
  },
  {
   "cell_type": "markdown",
   "metadata": {},
   "source": [
    "### Matching regions\n",
    "\n",
    "Regions are matched to the closest match in the parent country using `most_probable_match`. YOu may need to customise the function for countries which have different alphabets."
   ]
  },
  {
   "cell_type": "code",
   "execution_count": 15,
   "metadata": {},
   "outputs": [
    {
     "output_type": "stream",
     "name": "stdout",
     "text": "WARNING: an exact match for region 'Bretagne' in France could not be found in the GCMR database\n\tMatch 1 of 1 : 'Brittany' == 'Bretagne'  with a match score of 4/16.\nWARNING: an exact match for region 'Corse' in France could not be found in the GCMR database\n\tMatch 1 of 1 : 'Corsica' == 'Corse'  with a match score of 5/10.\nWARNING: an exact match for region 'Normandie' in France could not be found in the GCMR database\n\tMatch 1 of 1 : 'Normandy' == 'Normandie'  with a match score of 13/18.\nWARNING: an exact match for region 'France-hopitaux' in France could not be found in the GCMR database\n\tMatch 1 of 1 : 'France' == 'France-hopitaux'  with a match score of 12/30.\nWARNING: an exact match for region 'France-OC19' in France could not be found in the GCMR database\n\tMatch 1 of 1 : 'France' == 'France-OC19'  with a match score of 12/22.\nWARNING: an exact match for region 'France-EHPAD' in France could not be found in the GCMR database\n\tMatch 1 of 1 : 'France' == 'France-EHPAD'  with a match score of 12/24.\n"
    }
   ],
   "source": [
    "# Preparing the region columns in the same way\n",
    "for index, row in model_zones_df.iterrows():\n",
    "    region = row[\"covid19model_region\"]\n",
    "    country = row[\"GCMR_country\"]\n",
    "    # Extract for the country the list of regions\n",
    "    gcmr_regions = gcmr_df[gcmr_df[\"country_region\"] == country][\"sub_region_1\"]\n",
    "    gcmr_regions[gcmr_regions.isna()] = country\n",
    "    gcmr_regions = gcmr_regions.unique()\n",
    "    # if the region and country have exactly the same name use the country as the zone\n",
    "    if region == row[\"covid19model_country\"]:\n",
    "        model_zones_df.loc[index, \"GCMR_region\"] = row[\"GCMR_country\"]\n",
    "    \n",
    "    # Otherwise if it exists as is in GCMR copy it over\n",
    "    elif region in gcmr_regions:\n",
    "        model_zones_df.loc[index, \"GCMR_region\"] = region\n",
    "    # Else use fuzzy logic to get a best match\n",
    "    else:\n",
    "        print(f\"WARNING: an exact match for region '{region}' in {country} could not be found in the GCMR database\")\n",
    "        model_zones_df.loc[index, \"GCMR_region\"] = most_probable_match(region, gcmr_regions)"
   ]
  },
  {
   "cell_type": "markdown",
   "metadata": {},
   "source": [
    "Now we can check that data frame is correctly populated:"
   ]
  },
  {
   "cell_type": "code",
   "execution_count": 16,
   "metadata": {},
   "outputs": [
    {
     "output_type": "stream",
     "name": "stdout",
     "text": "Sample below should show 'GCMR_region' column populated\n"
    },
    {
     "output_type": "execute_result",
     "data": {
      "text/plain": "   covid19model_country         covid19model_region GCMR_country  \\\n11               France  Provence-Alpes-Côte d'Azur       France   \n4                France                       Corse       France   \n9                France                   Occitanie       France   \n5                France                   Grand Est       France   \n\n                   GCMR_region  \n11  Provence-Alpes-Côte d'Azur  \n4                      Corsica  \n9                    Occitanie  \n5                    Grand Est  ",
      "text/html": "<div>\n<style scoped>\n    .dataframe tbody tr th:only-of-type {\n        vertical-align: middle;\n    }\n\n    .dataframe tbody tr th {\n        vertical-align: top;\n    }\n\n    .dataframe thead th {\n        text-align: right;\n    }\n</style>\n<table border=\"1\" class=\"dataframe\">\n  <thead>\n    <tr style=\"text-align: right;\">\n      <th></th>\n      <th>covid19model_country</th>\n      <th>covid19model_region</th>\n      <th>GCMR_country</th>\n      <th>GCMR_region</th>\n    </tr>\n  </thead>\n  <tbody>\n    <tr>\n      <td>11</td>\n      <td>France</td>\n      <td>Provence-Alpes-Côte d'Azur</td>\n      <td>France</td>\n      <td>Provence-Alpes-Côte d'Azur</td>\n    </tr>\n    <tr>\n      <td>4</td>\n      <td>France</td>\n      <td>Corse</td>\n      <td>France</td>\n      <td>Corsica</td>\n    </tr>\n    <tr>\n      <td>9</td>\n      <td>France</td>\n      <td>Occitanie</td>\n      <td>France</td>\n      <td>Occitanie</td>\n    </tr>\n    <tr>\n      <td>5</td>\n      <td>France</td>\n      <td>Grand Est</td>\n      <td>France</td>\n      <td>Grand Est</td>\n    </tr>\n  </tbody>\n</table>\n</div>"
     },
     "metadata": {},
     "execution_count": 16
    }
   ],
   "source": [
    "print(\"Sample below should show 'GCMR_region' column populated\")\n",
    "model_zones_df.sample(4)"
   ]
  },
  {
   "cell_type": "markdown",
   "metadata": {},
   "source": [
    "## Ouptut to CSV\n",
    "\n",
    "The resulting data frame is written to csv ready to be used in other parts of the program"
   ]
  },
  {
   "cell_type": "code",
   "execution_count": 17,
   "metadata": {},
   "outputs": [
    {
     "output_type": "stream",
     "name": "stdout",
     "text": "Prepared country and region matches between model and GCMR data has been printed to covid19model_zones_prepared.csv, please check warnings above, and edit the csv file directly if needed.\n"
    }
   ],
   "source": [
    "filename, ext= os.path.splitext(model_zones_file)\n",
    "prepared_model_zones_file = filename + '_prepared' + ext\n",
    "i = 1\n",
    "while os.path.exists(prepared_model_zones_file):\n",
    "    prepared_model_zones_file = filename + '_prepared' + f\"_{i}\" + ext\n",
    "    i += 1\n",
    "\n",
    "model_zones_df.to_csv(prepared_model_zones_file)\n",
    "\n",
    "print(\n",
    "    \"Prepared country and region matches between model and GCMR data has been \" \n",
    "    + f\"printed to {prepared_model_zones_file}, please check warnings\"\n",
    "    + \" above, and edit the csv file directly if needed.\"\n",
    ")"
   ]
  }
 ],
 "metadata": {
  "kernelspec": {
   "display_name": "Python 3",
   "language": "python",
   "name": "python3"
  },
  "language_info": {
   "codemirror_mode": {
    "name": "ipython",
    "version": 3
   },
   "file_extension": ".py",
   "mimetype": "text/x-python",
   "name": "python",
   "nbconvert_exporter": "python",
   "pygments_lexer": "ipython3",
   "version": "3.7.4-final"
  }
 },
 "nbformat": 4,
 "nbformat_minor": 2
}